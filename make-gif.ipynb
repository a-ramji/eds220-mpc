{
 "cells": [
  {
   "cell_type": "markdown",
   "id": "afce8523-0f1c-4cb8-b41c-1203482651b4",
   "metadata": {},
   "source": [
    "# Make a GIF\n",
    "\n",
    "In this notebook we will use NAIP data to create a GIF showing vegetation change over Campus Point at UCSB.\n",
    "\n",
    "UCSB’s [Cheadle Center for Biodiveristy and Ecologicla Restoration (CCBER)](https://www.ccber.ucsb.edu/) manages multiple ecological restoration sites around the UCSB campus to protect and enhance native biodiveristy and preserve ecological function within urbanized areas. Campus Point is one of the areas managed by CCBER and has undergone multiple active restoration projects since 2005. In particular, Campus Point is greatly covered by iceplant (*Carpobrotus edulis*), an inviasive succulent that competes with native plants by forming thick mats that cover large areas. In the last few years CCBER has removed iceplant in Campus Point to replace it with native vegetation.\n",
    "\n",
    "We will create a gif using NAIP imagery from 2016, 2018, and 2020 showing the vegetation change in this area.\n",
    "\n",
    "First, let’s import the necessary libraries and functions. To create the GIF we’ll be using the [geogif library](https://geogif.readthedocs.io/en/latest/), which makes it simple to create gifs from `xarray.DataArrays`."
   ]
  },
  {
   "cell_type": "code",
   "execution_count": 1,
   "id": "a37812de-5d30-4e9b-bb92-d07f3abbbe2c",
   "metadata": {
    "tags": []
   },
   "outputs": [],
   "source": [
    "# importing libraries with standard abbreviations\n",
    "\n",
    "import pandas as pd\n",
    "import geopandas as gpd\n",
    "import matplotlib.pyplot as plt\n",
    "\n",
    "# geospatial tools\n",
    "import xarray as xr\n",
    "import rioxarray as rioxr\n",
    "from shapely.geometry import box\n",
    "\n",
    "# planetary computer tools\n",
    "import pystac_client\n",
    "import planetary_computer\n",
    "\n",
    "# to create a gif\n",
    "from geogif import gif "
   ]
  },
  {
   "cell_type": "code",
   "execution_count": null,
   "id": "7df75ca9-2ca5-4d93-b0a9-2e7115485865",
   "metadata": {},
   "outputs": [],
   "source": []
  }
 ],
 "metadata": {
  "kernelspec": {
   "display_name": "Python 3 (ipykernel)",
   "language": "python",
   "name": "python3"
  },
  "language_info": {
   "codemirror_mode": {
    "name": "ipython",
    "version": 3
   },
   "file_extension": ".py",
   "mimetype": "text/x-python",
   "name": "python",
   "nbconvert_exporter": "python",
   "pygments_lexer": "ipython3",
   "version": "3.11.4"
  }
 },
 "nbformat": 4,
 "nbformat_minor": 5
}
